{
 "cells": [
  {
   "cell_type": "code",
   "execution_count": 1,
   "id": "6df5984b",
   "metadata": {},
   "outputs": [],
   "source": [
    "import numpy as np"
   ]
  },
  {
   "cell_type": "code",
   "execution_count": 2,
   "id": "77da72a4",
   "metadata": {},
   "outputs": [
    {
     "name": "stdout",
     "output_type": "stream",
     "text": [
      "Array 1: [1 2 3 4 5]\n"
     ]
    }
   ],
   "source": [
    "arr1 = np.array([1, 2, 3, 4, 5])\n",
    "print(\"Array 1:\", arr1)"
   ]
  },
  {
   "cell_type": "code",
   "execution_count": 3,
   "id": "9256cd1f",
   "metadata": {},
   "outputs": [
    {
     "name": "stdout",
     "output_type": "stream",
     "text": [
      "Array 2:\n",
      "[[1 2 3]\n",
      " [4 5 6]]\n"
     ]
    }
   ],
   "source": [
    "arr2 = np.array([[1, 2, 3], [4, 5, 6]])\n",
    "print(\"Array 2:\")\n",
    "print(arr2)"
   ]
  },
  {
   "cell_type": "code",
   "execution_count": 4,
   "id": "71ce7d51",
   "metadata": {},
   "outputs": [],
   "source": [
    "arr3 = np.array([2, 4, 6, 8, 10])"
   ]
  },
  {
   "cell_type": "code",
   "execution_count": 5,
   "id": "dd8ac1e9",
   "metadata": {},
   "outputs": [
    {
     "name": "stdout",
     "output_type": "stream",
     "text": [
      "Addition: [ 3  6  9 12 15]\n"
     ]
    }
   ],
   "source": [
    "addition = arr1 + arr3\n",
    "print(\"Addition:\", addition)"
   ]
  },
  {
   "cell_type": "code",
   "execution_count": 6,
   "id": "91555565",
   "metadata": {},
   "outputs": [
    {
     "name": "stdout",
     "output_type": "stream",
     "text": [
      "Subtraction: [1 2 3 4 5]\n"
     ]
    }
   ],
   "source": [
    "subtraction = arr3 - arr1\n",
    "print(\"Subtraction:\", subtraction)\n"
   ]
  },
  {
   "cell_type": "code",
   "execution_count": 7,
   "id": "2201a879",
   "metadata": {},
   "outputs": [
    {
     "ename": "ValueError",
     "evalue": "shapes (2,3) and (5,) not aligned: 3 (dim 1) != 5 (dim 0)",
     "output_type": "error",
     "traceback": [
      "\u001b[1;31m---------------------------------------------------------------------------\u001b[0m",
      "\u001b[1;31mValueError\u001b[0m                                Traceback (most recent call last)",
      "Cell \u001b[1;32mIn[7], line 1\u001b[0m\n\u001b[1;32m----> 1\u001b[0m matrix_mult \u001b[38;5;241m=\u001b[39m \u001b[43mnp\u001b[49m\u001b[38;5;241;43m.\u001b[39;49m\u001b[43mdot\u001b[49m\u001b[43m(\u001b[49m\u001b[43marr2\u001b[49m\u001b[43m,\u001b[49m\u001b[43m \u001b[49m\u001b[43marr3\u001b[49m\u001b[43m)\u001b[49m\n\u001b[0;32m      2\u001b[0m \u001b[38;5;28mprint\u001b[39m(\u001b[38;5;124m\"\u001b[39m\u001b[38;5;124mMatrix Multiplication:\u001b[39m\u001b[38;5;124m\"\u001b[39m)\n\u001b[0;32m      3\u001b[0m \u001b[38;5;28mprint\u001b[39m(matrix_mult)\n",
      "File \u001b[1;32m<__array_function__ internals>:200\u001b[0m, in \u001b[0;36mdot\u001b[1;34m(*args, **kwargs)\u001b[0m\n",
      "\u001b[1;31mValueError\u001b[0m: shapes (2,3) and (5,) not aligned: 3 (dim 1) != 5 (dim 0)"
     ]
    }
   ],
   "source": [
    "matrix_mult = np.dot(arr2, arr3)\n",
    "print(\"Matrix Multiplication:\")\n",
    "print(matrix_mult)\n"
   ]
  },
  {
   "cell_type": "code",
   "execution_count": 8,
   "id": "58b04b32",
   "metadata": {},
   "outputs": [
    {
     "name": "stdout",
     "output_type": "stream",
     "text": [
      "Minimum: 1\n",
      "Maximum: 5\n",
      "Mean: 3.0\n",
      "Median: 3.0\n",
      "Standard Deviation: 1.4142135623730951\n",
      "Sum: 15\n"
     ]
    }
   ],
   "source": [
    "print(\"Minimum:\", np.min(arr1))\n",
    "print(\"Maximum:\", np.max(arr1))\n",
    "print(\"Mean:\", np.mean(arr1))\n",
    "print(\"Median:\", np.median(arr1))\n",
    "print(\"Standard Deviation:\", np.std(arr1))\n",
    "print(\"Sum:\", np.sum(arr1))"
   ]
  },
  {
   "cell_type": "code",
   "execution_count": 9,
   "id": "41534cc6",
   "metadata": {},
   "outputs": [
    {
     "name": "stdout",
     "output_type": "stream",
     "text": [
      "Complex Array:\n",
      "[1.+2.j 3.-4.j 5.+6.j]\n"
     ]
    }
   ],
   "source": [
    "arr_complex = np.array([1 + 2j, 3 - 4j, 5 + 6j])\n",
    "print(\"Complex Array:\")\n",
    "print(arr_complex)"
   ]
  },
  {
   "cell_type": "code",
   "execution_count": 10,
   "id": "b9e0d9b2",
   "metadata": {},
   "outputs": [
    {
     "name": "stdout",
     "output_type": "stream",
     "text": [
      "Real Parts: [1. 3. 5.]\n",
      "Imaginary Parts: [ 2. -4.  6.]\n"
     ]
    }
   ],
   "source": [
    "real_parts = arr_complex.real\n",
    "imaginary_parts = arr_complex.imag\n",
    "print(\"Real Parts:\", real_parts)\n",
    "print(\"Imaginary Parts:\", imaginary_parts)\n"
   ]
  },
  {
   "cell_type": "code",
   "execution_count": 11,
   "id": "ffd1b10f",
   "metadata": {},
   "outputs": [
    {
     "name": "stdout",
     "output_type": "stream",
     "text": [
      "Phase (radians): [ 1.10714872 -0.92729522  0.87605805]\n"
     ]
    }
   ],
   "source": [
    "phase = np.angle(arr_complex)\n",
    "print(\"Phase (radians):\", phase)"
   ]
  },
  {
   "cell_type": "code",
   "execution_count": null,
   "id": "234bb05b",
   "metadata": {},
   "outputs": [],
   "source": [
    "phase_deg = np.angle(arr_complex, deg=True)\n",
    "print(\"Phase (degrees):\", phase_deg)"
   ]
  }
 ],
 "metadata": {
  "kernelspec": {
   "display_name": "Python 3 (ipykernel)",
   "language": "python",
   "name": "python3"
  },
  "language_info": {
   "codemirror_mode": {
    "name": "ipython",
    "version": 3
   },
   "file_extension": ".py",
   "mimetype": "text/x-python",
   "name": "python",
   "nbconvert_exporter": "python",
   "pygments_lexer": "ipython3",
   "version": "3.11.3"
  }
 },
 "nbformat": 4,
 "nbformat_minor": 5
}
